{
 "cells": [
  {
   "cell_type": "code",
   "execution_count": 33,
   "id": "essential-rugby",
   "metadata": {},
   "outputs": [],
   "source": [
    "import json\n",
    "import pandas as pd\n",
    "import datetime\n",
    "\n",
    "# read the file\n",
    "london_df = pd.read_csv('london_merged.csv')\n",
    "london_df = london_df[['season', 'cnt','t1','t2','timestamp']]\n",
    "bike_df = london_df.copy()\n",
    "bike_df[\"timestamp\"] = pd.to_datetime(bike_df[\"timestamp\"]).dt.strftime('%d/%m/%Y')\n",
    "bike_df.rename(columns={'cnt': 'count','t1': 'temperature','t2': 'feels','timestamp': 'date'}, index={'O': 'one'}, inplace=True)\n",
    "bike_df.head()\n",
    "\n",
    "# groupby and create dict\n",
    "data_dict = dict()\n",
    "for i, g in bike_df.groupby('season'):\n",
    "    data_dict[i] = g.drop(columns=['season']).to_dict(orient='records')\n",
    "\n",
    "with open('results.json', 'w', encoding='utf-8') as jsonf: \n",
    "    jsonString = json.dumps(data_dict, indent=4)\n",
    "    jsonf.write(jsonString)    \n",
    "\n"
   ]
  },
  {
   "cell_type": "code",
   "execution_count": null,
   "id": "center-photography",
   "metadata": {},
   "outputs": [],
   "source": [
    "'''Metadata:\n",
    "\"timestamp\" - timestamp field for grouping the data\n",
    "\"cnt\" - the count of a new bike shares\n",
    "\"t1\" - real temperature in C\n",
    "\"t2\" - temperature in C \"feels like\"\n",
    "\"hum\" - humidity in percentage\n",
    "\"windspeed\" - wind speed in km/h\n",
    "\"weathercode\" - category of the weather\n",
    "\"isholiday\" - boolean field - 1 holiday / 0 non holiday\n",
    "\"isweekend\" - boolean field - 1 if the day is weekend\n",
    "\"season\" - category field meteorological seasons: 0-spring ; 1-summer; 2-fall; 3-winter.\n",
    "\n",
    "\"weathe_code\" category description:\n",
    "1 = Clear ; mostly clear but have some values with haze/fog/patches of fog/ fog in vicinity 2 = scattered \n",
    "clouds / few clouds 3 = Broken clouds 4 = Cloudy 7 = Rain/ light Rain shower/ Light rain 10 = rain with \n",
    "thunderstorm 26 = snowfall 94 = Freezing Fog'''"
   ]
  }
 ],
 "metadata": {
  "kernelspec": {
   "display_name": "Python 3",
   "language": "python",
   "name": "python3"
  },
  "language_info": {
   "codemirror_mode": {
    "name": "ipython",
    "version": 3
   },
   "file_extension": ".py",
   "mimetype": "text/x-python",
   "name": "python",
   "nbconvert_exporter": "python",
   "pygments_lexer": "ipython3",
   "version": "3.7.9"
  }
 },
 "nbformat": 4,
 "nbformat_minor": 5
}
